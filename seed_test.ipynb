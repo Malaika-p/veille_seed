{
 "cells": [
  {
   "cell_type": "markdown",
   "metadata": {},
   "source": [
    "# Test SEED Keras"
   ]
  },
  {
   "cell_type": "code",
   "execution_count": 25,
   "metadata": {},
   "outputs": [],
   "source": [
    "import os\n",
    "os.environ[\"CUDA_DEVICE_ORDER\"] = \"PCI_BUS_ID\"\n",
    "os.environ[\"CUDA_VISIBLE_DEVICES\"] = \"\""
   ]
  },
  {
   "cell_type": "code",
   "execution_count": 1,
   "metadata": {},
   "outputs": [],
   "source": [
    "SEED = 123456\n",
    "\n",
    "import random as rn\n",
    "import numpy as np\n",
    "import tensorflow as tf\n",
    " \n",
    "os.environ['PYTHONHASHSEED']=str(SEED)\n",
    "np.random.seed(SEED)\n",
    "rn.seed(SEED)\n",
    "\n",
    "\n",
    "\n",
    "\n",
    "\n",
    "session_conf = tf.compat.v1.ConfigProto(intra_op_parallelism_threads=1,\n",
    "                              inter_op_parallelism_threads=1)\n",
    "\n",
    "\n",
    "\n",
    "tf.random.set_seed(SEED)\n"
   ]
  },
  {
   "cell_type": "code",
   "execution_count": 2,
   "metadata": {},
   "outputs": [],
   "source": [
    "\n",
    "sess = tf.compat.v1.Session(graph=tf.compat.v1.get_default_graph(),config=session_conf)\n",
    "tf.compat.v1.keras.backend.set_session(sess)"
   ]
  },
  {
   "cell_type": "code",
   "execution_count": 3,
   "metadata": {},
   "outputs": [
    {
     "data": {
      "text/plain": [
       "{'PATH': '/opt/conda/envs/tf2/bin:/opt/conda/bin:/usr/local/sbin:/usr/local/bin:/usr/sbin:/usr/bin:/sbin:/bin',\n",
       " 'HOSTNAME': 'cf998c5d814c',\n",
       " 'BIGML_USERNAME': 'MAUDABY',\n",
       " 'BIGML_API_KEY': 'f74bcfa8c33f081c9ccc2a3fb0a14cbc9b353ad4',\n",
       " 'KAGGLE_USERNAME': 'malaika1',\n",
       " 'KAGGLE_KEY': '23f3d8efaf7cd15c5f790436e7414bb3',\n",
       " 'LANG': 'C.UTF-8',\n",
       " 'LC_ALL': 'C.UTF-8',\n",
       " 'HOME': '/root',\n",
       " 'KERNEL_LAUNCH_TIMEOUT': '40',\n",
       " 'GIT_PYTHON_REFRESH': 'quiet',\n",
       " 'JPY_PARENT_PID': '1',\n",
       " 'TERM': 'xterm-color',\n",
       " 'CLICOLOR': '1',\n",
       " 'PAGER': 'cat',\n",
       " 'GIT_PAGER': 'cat',\n",
       " 'MPLBACKEND': 'module://ipykernel.pylab.backend_inline',\n",
       " 'NO_GCE_CHECK': 'False',\n",
       " 'GCE_METADATA_TIMEOUT': '3',\n",
       " 'PYTHONHASHSEED': '123456',\n",
       " 'KERAS_BACKEND': ''}"
      ]
     },
     "execution_count": 3,
     "metadata": {},
     "output_type": "execute_result"
    }
   ],
   "source": [
    "%env"
   ]
  },
  {
   "cell_type": "code",
   "execution_count": 4,
   "metadata": {},
   "outputs": [
    {
     "name": "stderr",
     "output_type": "stream",
     "text": [
      "Using TensorFlow backend.\n"
     ]
    }
   ],
   "source": [
    "from keras.models import Sequential\n",
    "from keras.layers import Dense\n",
    "import numpy"
   ]
  },
  {
   "cell_type": "code",
   "execution_count": 5,
   "metadata": {
    "scrolled": true
   },
   "outputs": [],
   "source": [
    "dataset = np.loadtxt(\"pima-indians-diabetes.csv\", delimiter=\",\")\n",
    "\n",
    "X = dataset[:,0:8]\n",
    "Y = dataset[:,8]"
   ]
  },
  {
   "cell_type": "code",
   "execution_count": 62,
   "metadata": {},
   "outputs": [
    {
     "name": "stderr",
     "output_type": "stream",
     "text": [
      "/opt/conda/envs/tf2/lib/python3.7/site-packages/ipykernel_launcher.py:2: UserWarning: Update your `Dense` call to the Keras 2 API: `Dense(12, input_dim=8, activation=\"relu\", kernel_initializer=\"uniform\")`\n",
      "  \n",
      "/opt/conda/envs/tf2/lib/python3.7/site-packages/ipykernel_launcher.py:3: UserWarning: Update your `Dense` call to the Keras 2 API: `Dense(8, activation=\"relu\", kernel_initializer=\"uniform\")`\n",
      "  This is separate from the ipykernel package so we can avoid doing imports until\n",
      "/opt/conda/envs/tf2/lib/python3.7/site-packages/ipykernel_launcher.py:4: UserWarning: Update your `Dense` call to the Keras 2 API: `Dense(1, activation=\"sigmoid\", kernel_initializer=\"uniform\")`\n",
      "  after removing the cwd from sys.path.\n"
     ]
    }
   ],
   "source": [
    "model = Sequential()\n",
    "model.add(Dense(12, input_dim=8, init='uniform', activation='relu'))\n",
    "model.add(Dense(8, init='uniform', activation='relu'))\n",
    "model.add(Dense(1, init='uniform', activation='sigmoid'))"
   ]
  },
  {
   "cell_type": "code",
   "execution_count": 63,
   "metadata": {},
   "outputs": [],
   "source": [
    "model.compile(loss='binary_crossentropy', optimizer='adam', metrics=['accuracy'])"
   ]
  },
  {
   "cell_type": "code",
   "execution_count": 64,
   "metadata": {
    "scrolled": false
   },
   "outputs": [
    {
     "data": {
      "text/plain": [
       "<keras.callbacks.callbacks.History at 0x7fefdd33ffd0>"
      ]
     },
     "execution_count": 64,
     "metadata": {},
     "output_type": "execute_result"
    }
   ],
   "source": [
    "model.fit(X, Y, epochs=2, batch_size=10, shuffle=False, verbose=0)"
   ]
  },
  {
   "cell_type": "code",
   "execution_count": 65,
   "metadata": {},
   "outputs": [
    {
     "name": "stdout",
     "output_type": "stream",
     "text": [
      "768/768 [==============================] - 0s 58us/step\n",
      "accuracy: 65.49%\n"
     ]
    }
   ],
   "source": [
    "scores = model.evaluate(X, Y)\n",
    "print(\"%s: %.2f%%\" % (model.metrics_names[1], scores[1]*100))"
   ]
  },
  {
   "cell_type": "markdown",
   "metadata": {},
   "source": [
    "Premiers tests\n",
    "* Test 1 : accuracy: 77.86%\n",
    "* Test 2 : accuracy: 78.91%\n",
    "* Test 3 : accuracy: 78.12%\n",
    "* Test 4 : accuracy: 79.04%"
   ]
  },
  {
   "cell_type": "markdown",
   "metadata": {},
   "source": [
    "* Test 1 : accuracy: 79.56%\n",
    "* Test 2 : accuracy: 79.95%\n",
    "* Test 3 : accuracy: 80.47%\n",
    "* Test 4 : accuracy: "
   ]
  },
  {
   "cell_type": "markdown",
   "metadata": {},
   "source": [
    "* Test 1 : accuracy: 79.82%\n",
    "* Test 2 : accuracy: 81.12%\n",
    "* Test 3 : accuracy: \n",
    "* Test 4 : accuracy: "
   ]
  },
  {
   "cell_type": "markdown",
   "metadata": {},
   "source": [
    "* Test 1 : accuracy: 79.17%\n",
    "* Test 2 : accuracy: \n",
    "* Test 3 : accuracy: \n",
    "* Test 4 : accuracy: "
   ]
  },
  {
   "cell_type": "markdown",
   "metadata": {},
   "source": [
    "* Test 1 : accuracy: 71.35%\n",
    "* Test 2 : accuracy: 77.21%\n",
    "\n",
    "\n",
    "\n",
    "* Test 1 : accuracy: 78.91%\n",
    "* Test 2 : accuracy: 80.73%"
   ]
  },
  {
   "cell_type": "markdown",
   "metadata": {},
   "source": [
    "Test avec Seed env python, numpy random, random python et tensorflow\n",
    "* Test 1 : accuracy: accuracy: 79.17%\n",
    "* Test 2 : accuracy: accuracy: 79.17%\n",
    "* Test 3 : accuracy: accuracy: 79.43%\n",
    "* Test 4 : accuracy: accuracy: 79.30%\n",
    "* accuracy: 80.21%"
   ]
  },
  {
   "cell_type": "markdown",
   "metadata": {},
   "source": [
    "* Test 1 : accuracy: 80.73%\n",
    "* Test 2 : accuracy: \n",
    "* Test 3 : accuracy: \n",
    "* Test 4 : accuracy: "
   ]
  },
  {
   "cell_type": "markdown",
   "metadata": {},
   "source": [
    "Test sans seed\n",
    "* Test 1 : accuracy: 79.43%\n",
    "\n",
    "* Test 2 : accuracy: 79.17%\n",
    "\n",
    "\n",
    "* Test 3 : accuracy: 80.60%\n",
    "* Test 4 : accuracy: 80.08%"
   ]
  },
  {
   "cell_type": "markdown",
   "metadata": {},
   "source": [
    "03/12/2019\n",
    "2 epochs\n",
    "\n",
    "* Test 1 : accuracy: \n",
    "* Test 2 : accuracy: \n",
    "* Test 3 : accuracy: \n",
    "* Test 4 : accuracy: \n",
    "* Test 5 : accuracy: \n",
    "* Test 6 : accuracy: \n",
    "* Test 7 : accuracy: \n",
    "* Test 8 : accuracy: \n",
    "* Test 9 : accuracy: \n",
    "* Test 1 : accuracy: "
   ]
  },
  {
   "cell_type": "markdown",
   "metadata": {},
   "source": [
    "Test 02/12/2019\n",
    "\n",
    "avec shuffle= False\n",
    "\n",
    "* Test 1 : accuracy: 78.78%\n",
    "* Test 2 : accuracy: 80.73%\n",
    "* Test 3 : accuracy: 78.12%\n",
    "* Test 4 : accuracy: \n",
    "\n",
    "* Test 1 : accuracy: 79.17%\n",
    "* Test 2 : accuracy: 79.30%\n",
    "* Test 3 : accuracy: 79.17%\n",
    "* Test 4 : accuracy: 78.26%\n",
    "* Test 5 : accuracy: 72.27%\n",
    "\n",
    "2 epochs avec shuffle= False \n",
    "\n",
    "* Test 1 : accuracy: 65.10%\n",
    "* Test 2 : accuracy: 65.10%\n",
    "* Test 3 : accuracy: 65.36%\n",
    "* Test 4 : accuracy: 65.10%\n",
    "* Test 5 : accuracy: 65.23%\n",
    "* Test 6 : accuracy: 65.23%\n",
    "* Test 7 : accuracy: 65.62%\n",
    "* Test 8 : accuracy: 65.10%\n",
    "* Test 9 : accuracy: 65.10%\n",
    "* Test 1 : accuracy: 65.49%\n"
   ]
  },
  {
   "cell_type": "markdown",
   "metadata": {},
   "source": []
  }
 ],
 "metadata": {
  "kernelspec": {
   "display_name": "Python 3",
   "language": "python",
   "name": "python3"
  },
  "language_info": {
   "codemirror_mode": {
    "name": "ipython",
    "version": 3
   },
   "file_extension": ".py",
   "mimetype": "text/x-python",
   "name": "python",
   "nbconvert_exporter": "python",
   "pygments_lexer": "ipython3",
   "version": "3.7.3"
  },
  "toc": {
   "base_numbering": 1,
   "nav_menu": {},
   "number_sections": true,
   "sideBar": true,
   "skip_h1_title": false,
   "title_cell": "Table of Contents",
   "title_sidebar": "Contents",
   "toc_cell": false,
   "toc_position": {},
   "toc_section_display": true,
   "toc_window_display": false
  }
 },
 "nbformat": 4,
 "nbformat_minor": 2
}
