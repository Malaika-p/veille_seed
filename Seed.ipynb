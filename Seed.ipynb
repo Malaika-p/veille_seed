{
 "cells": [
  {
   "cell_type": "markdown",
   "metadata": {
    "slideshow": {
     "slide_type": "slide"
    }
   },
   "source": [
    "# SEED sur Tensorflow et Keras\n",
    "<img src=\"https://cdn.pixabay.com/photo/2019/02/11/15/30/germination-3989958_960_720.png\">\n"
   ]
  },
  {
   "cell_type": "markdown",
   "metadata": {
    "slideshow": {
     "slide_type": "slide"
    }
   },
   "source": [
    "## En machine learning on utilise souvent l'aléatoire.\n",
    "* Pour le split des données\n",
    "* Pour l'initialisation, par exemple les poids.\n",
    "* Pour l'optimisation, telle que l'optimisation stochastique.\n",
    "\n",
    "Ces paramètres aléatoires, signifient que lorsque vous exécutez la même fonction ou le même algorithme sur les mêmes données, vous avez la garantie d'obtenir des résultats différents."
   ]
  },
  {
   "cell_type": "markdown",
   "metadata": {},
   "source": [
    "<img src=\"https://cdn.pixabay.com/photo/2018/09/18/11/19/artificial-intelligence-3685928__340.png\">"
   ]
  },
  {
   "cell_type": "markdown",
   "metadata": {
    "slideshow": {
     "slide_type": "slide"
    }
   },
   "source": [
    "## Obtenir des résultats reproductibles "
   ]
  },
  {
   "cell_type": "markdown",
   "metadata": {},
   "source": [
    "Lorsqu'un ordinateur génère un nombre aléatoire, ce n'est pas vraiment «aléatoire» et est en fait pseudo-aléatoire. \n",
    "La SEED peut être considérée comme un paramètre déterminant la séquence des nombres pseudo-aléatoires générés.\n",
    "Par défault la SEED est créer automatiquement, mais si on veut obtenir des résultats reproductibles, on peut également la définir."
   ]
  },
  {
   "cell_type": "code",
   "execution_count": 1,
   "metadata": {
    "slideshow": {
     "slide_type": "slide"
    }
   },
   "outputs": [],
   "source": [
    "import tensorflow as tf\n",
    "\n",
    "\n",
    "\n",
    "g = tf.Graph() \n",
    "with g.as_default():   \n",
    "      \n",
    "    a = tf.random.uniform([1], seed=42)   \n",
    "    assert a.graph is g\n",
    "\n",
    "\n",
    "\n",
    "f = tf.Graph() \n",
    "with f.as_default():   \n",
    "  \n",
    "     b = tf.random.uniform([1])   \n",
    "     assert b.graph is f\n",
    "        "
   ]
  },
  {
   "cell_type": "code",
   "execution_count": 2,
   "metadata": {
    "slideshow": {
     "slide_type": "slide"
    }
   },
   "outputs": [
    {
     "name": "stdout",
     "output_type": "stream",
     "text": [
      "Session 1 :\n",
      "a : [0.95227146] [0.8960779]\n",
      "b : [0.1370461] [0.6016282]\n",
      "Session 2 :\n",
      "a : [0.95227146] [0.8960779]\n",
      "b : [0.27338827] [0.7319329]\n"
     ]
    }
   ],
   "source": [
    "sess1a = tf.compat.v1.Session(graph=g)\n",
    "sess1b = tf.compat.v1.Session(graph=f)\n",
    "print('Session 1 :')\n",
    "print('a :',sess1a.run(a),sess1a.run(a))\n",
    "print('b :',sess1b.run(b),sess1b.run(b))\n",
    "\n",
    "sess2a = tf.compat.v1.Session(graph=g)\n",
    "sess2b = tf.compat.v1.Session(graph=f)\n",
    "print('Session 2 :')\n",
    "print('a :',sess2a.run(a), sess2a.run(a))\n",
    "print('b :', sess2b.run(b), sess2b.run(b))\n"
   ]
  },
  {
   "cell_type": "code",
   "execution_count": 3,
   "metadata": {
    "slideshow": {
     "slide_type": "skip"
    }
   },
   "outputs": [],
   "source": [
    "import pandas as pd\n",
    "promo = pd.read_csv('promo_bordeaux.csv')\n",
    "splits = pd.DataFrame(columns=['Split 1','Split 2','Split 3','Split 4'])\n",
    " "
   ]
  },
  {
   "cell_type": "markdown",
   "metadata": {
    "slideshow": {
     "slide_type": "slide"
    }
   },
   "source": [
    "## Exemple de split en utilisant une SEED"
   ]
  },
  {
   "cell_type": "code",
   "execution_count": 4,
   "metadata": {
    "slideshow": {
     "slide_type": "-"
    }
   },
   "outputs": [],
   "source": [
    "from sklearn.model_selection import train_test_split\n",
    "\n",
    "VAL_SIZE = 0.2\n",
    "SPLIT_SEED = 42\n",
    "\n",
    "train1, test1 = train_test_split(promo, test_size=VAL_SIZE)\n",
    "train2, test2 = train_test_split(promo, test_size=VAL_SIZE)\n",
    "\n",
    "\n",
    "train3, test3 = train_test_split(promo, test_size=VAL_SIZE, random_state=SPLIT_SEED)\n",
    "train4, test4 = train_test_split(promo, test_size=VAL_SIZE, random_state=SPLIT_SEED)\n"
   ]
  },
  {
   "cell_type": "code",
   "execution_count": 5,
   "metadata": {
    "slideshow": {
     "slide_type": "skip"
    }
   },
   "outputs": [],
   "source": [
    "splits['Split 1'] = list(test1['Prenom'])\n",
    "splits['Split 2'] = list(test2['Prenom'])\n",
    "splits['Split 3'] = list(test3['Prenom'])\n",
    "splits['Split 4'] = list(test4['Prenom'])\n"
   ]
  },
  {
   "cell_type": "code",
   "execution_count": 6,
   "metadata": {
    "slideshow": {
     "slide_type": "slide"
    }
   },
   "outputs": [
    {
     "data": {
      "text/html": [
       "<div>\n",
       "<style scoped>\n",
       "    .dataframe tbody tr th:only-of-type {\n",
       "        vertical-align: middle;\n",
       "    }\n",
       "\n",
       "    .dataframe tbody tr th {\n",
       "        vertical-align: top;\n",
       "    }\n",
       "\n",
       "    .dataframe thead th {\n",
       "        text-align: right;\n",
       "    }\n",
       "</style>\n",
       "<table border=\"1\" class=\"dataframe\">\n",
       "  <thead>\n",
       "    <tr style=\"text-align: right;\">\n",
       "      <th></th>\n",
       "      <th>Split 1</th>\n",
       "      <th>Split 2</th>\n",
       "      <th>Split 3</th>\n",
       "      <th>Split 4</th>\n",
       "    </tr>\n",
       "  </thead>\n",
       "  <tbody>\n",
       "    <tr>\n",
       "      <th>0</th>\n",
       "      <td>Damien</td>\n",
       "      <td>Pierre</td>\n",
       "      <td>Silvia</td>\n",
       "      <td>Silvia</td>\n",
       "    </tr>\n",
       "    <tr>\n",
       "      <th>1</th>\n",
       "      <td>Christophe</td>\n",
       "      <td>Damien</td>\n",
       "      <td>Julien</td>\n",
       "      <td>Julien</td>\n",
       "    </tr>\n",
       "    <tr>\n",
       "      <th>2</th>\n",
       "      <td>Nicolas</td>\n",
       "      <td>Rachel</td>\n",
       "      <td>Christophe</td>\n",
       "      <td>Christophe</td>\n",
       "    </tr>\n",
       "    <tr>\n",
       "      <th>3</th>\n",
       "      <td>Corantin</td>\n",
       "      <td>Thibaud</td>\n",
       "      <td>Baptiste</td>\n",
       "      <td>Baptiste</td>\n",
       "    </tr>\n",
       "    <tr>\n",
       "      <th>4</th>\n",
       "      <td>Yohan</td>\n",
       "      <td>Mehdi</td>\n",
       "      <td>Maud</td>\n",
       "      <td>Maud</td>\n",
       "    </tr>\n",
       "  </tbody>\n",
       "</table>\n",
       "</div>"
      ],
      "text/plain": [
       "      Split 1  Split 2     Split 3     Split 4\n",
       "0      Damien   Pierre      Silvia      Silvia\n",
       "1  Christophe   Damien      Julien      Julien\n",
       "2     Nicolas   Rachel  Christophe  Christophe\n",
       "3    Corantin  Thibaud    Baptiste    Baptiste\n",
       "4       Yohan    Mehdi        Maud        Maud"
      ]
     },
     "execution_count": 6,
     "metadata": {},
     "output_type": "execute_result"
    }
   ],
   "source": [
    "splits\n"
   ]
  },
  {
   "cell_type": "markdown",
   "metadata": {
    "slideshow": {
     "slide_type": "slide"
    }
   },
   "source": [
    "## Initiliser la SEED "
   ]
  },
  {
   "cell_type": "code",
   "execution_count": 7,
   "metadata": {},
   "outputs": [],
   "source": [
    "SEED = 42\n"
   ]
  },
  {
   "cell_type": "markdown",
   "metadata": {
    "slideshow": {
     "slide_type": "slide"
    }
   },
   "source": [
    "## Initialiser une SEED dans l'environnement Python"
   ]
  },
  {
   "cell_type": "code",
   "execution_count": 8,
   "metadata": {
    "slideshow": {
     "slide_type": "-"
    }
   },
   "outputs": [],
   "source": [
    "import os\n",
    "os.environ['PYTHONHASHSEED']=str(SEED)\n"
   ]
  },
  {
   "cell_type": "markdown",
   "metadata": {},
   "source": [
    "<img src=\"http://math.pc.vh.free.fr/info/graphics/python_logo.png\">"
   ]
  },
  {
   "cell_type": "markdown",
   "metadata": {
    "slideshow": {
     "slide_type": "slide"
    }
   },
   "source": [
    "## Initializer une SEED dans le module random de Python"
   ]
  },
  {
   "cell_type": "code",
   "execution_count": 9,
   "metadata": {
    "slideshow": {
     "slide_type": "-"
    }
   },
   "outputs": [],
   "source": [
    "import random as rn\n",
    "rn.seed(SEED)\n"
   ]
  },
  {
   "cell_type": "markdown",
   "metadata": {},
   "source": [
    "<img src=\"https://cdn.pixabay.com/photo/2013/07/13/13/41/dice-161376__340.png\">"
   ]
  },
  {
   "cell_type": "markdown",
   "metadata": {
    "slideshow": {
     "slide_type": "slide"
    }
   },
   "source": [
    "## Initializer une SEED dans Numpy"
   ]
  },
  {
   "cell_type": "code",
   "execution_count": 10,
   "metadata": {
    "slideshow": {
     "slide_type": "-"
    }
   },
   "outputs": [],
   "source": [
    "import numpy as np\n",
    "np.random.seed(SEED)\n"
   ]
  },
  {
   "cell_type": "markdown",
   "metadata": {},
   "source": [
    "<img src=\"https://upload.wikimedia.org/wikipedia/commons/thumb/1/1a/NumPy_logo.svg/775px-NumPy_logo.svg.png\">"
   ]
  },
  {
   "cell_type": "markdown",
   "metadata": {
    "slideshow": {
     "slide_type": "slide"
    }
   },
   "source": [
    "## Initializer une SEED dans Tensorflow"
   ]
  },
  {
   "cell_type": "code",
   "execution_count": 11,
   "metadata": {
    "slideshow": {
     "slide_type": "-"
    }
   },
   "outputs": [],
   "source": [
    "import tensorflow as tf\n",
    "tf.random.set_seed(SEED)\n"
   ]
  },
  {
   "cell_type": "markdown",
   "metadata": {},
   "source": [
    "<img src=\"https://upload.wikimedia.org/wikipedia/commons/thumb/2/2d/Tensorflow_logo.svg/220px-Tensorflow_logo.svg.png\">"
   ]
  },
  {
   "cell_type": "markdown",
   "metadata": {
    "slideshow": {
     "slide_type": "slide"
    }
   },
   "source": [
    "## Initializer une SEED pour Keras"
   ]
  },
  {
   "cell_type": "markdown",
   "metadata": {},
   "source": [
    "<img src=\"data:image/png;base64,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\">"
   ]
  },
  {
   "cell_type": "code",
   "execution_count": 12,
   "metadata": {
    "slideshow": {
     "slide_type": "-"
    }
   },
   "outputs": [],
   "source": [
    "\n",
    "os.environ['PYTHONHASHSEED']=str(SEED)\n",
    "np.random.seed(SEED)\n",
    "rn.seed(SEED)\n",
    "\n",
    "\n",
    "session_conf = tf.compat.v1.ConfigProto(intra_op_parallelism_threads=1,\n",
    "                              inter_op_parallelism_threads=1)\n",
    "\n",
    "tf.random.set_seed(SEED)\n",
    "\n",
    "sess = tf.compat.v1.Session(graph=tf.compat.v1.get_default_graph(),config=session_conf)\n",
    "tf.compat.v1.keras.backend.set_session(sess)\n"
   ]
  }
 ],
 "metadata": {
  "celltoolbar": "Diaporama",
  "kernelspec": {
   "display_name": "Python 3",
   "language": "python",
   "name": "python3"
  },
  "language_info": {
   "codemirror_mode": {
    "name": "ipython",
    "version": 3
   },
   "file_extension": ".py",
   "mimetype": "text/x-python",
   "name": "python",
   "nbconvert_exporter": "python",
   "pygments_lexer": "ipython3",
   "version": "3.7.3"
  },
  "toc": {
   "base_numbering": 1,
   "nav_menu": {},
   "number_sections": true,
   "sideBar": true,
   "skip_h1_title": false,
   "title_cell": "Table of Contents",
   "title_sidebar": "Contents",
   "toc_cell": false,
   "toc_position": {},
   "toc_section_display": true,
   "toc_window_display": false
  }
 },
 "nbformat": 4,
 "nbformat_minor": 2
}
